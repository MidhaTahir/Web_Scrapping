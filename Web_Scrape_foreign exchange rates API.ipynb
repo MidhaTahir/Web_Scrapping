{
 "cells": [
  {
   "cell_type": "code",
   "execution_count": 1,
   "metadata": {},
   "outputs": [],
   "source": [
    "# We will use an API containing currency exchange rates as published by the European Central Bank\n",
    "# Documentation at https://exchangeratesapi.io\n",
    "import requests"
   ]
  },
  {
   "cell_type": "code",
   "execution_count": 2,
   "metadata": {},
   "outputs": [],
   "source": [
    "base_url = \"https://api.exchangeratesapi.io/latest\""
   ]
  },
  {
   "cell_type": "code",
   "execution_count": 3,
   "metadata": {},
   "outputs": [],
   "source": [
    "#sending a get request\n",
    "response = requests.get(base_url)"
   ]
  },
  {
   "cell_type": "code",
   "execution_count": 6,
   "metadata": {},
   "outputs": [
    {
     "name": "stdout",
     "output_type": "stream",
     "text": [
      "200\n",
      "True\n"
     ]
    }
   ],
   "source": [
    "# checking response type\n",
    "print(response.status_code)\n",
    "print(response.ok)"
   ]
  },
  {
   "cell_type": "code",
   "execution_count": 8,
   "metadata": {},
   "outputs": [
    {
     "data": {
      "text/plain": [
       "{'rates': {'CAD': 1.528,\n",
       "  'HKD': 8.6347,\n",
       "  'ISK': 150.8,\n",
       "  'PHP': 56.231,\n",
       "  'DKK': 7.4542,\n",
       "  'HUF': 348.73,\n",
       "  'CZK': 26.921,\n",
       "  'AUD': 1.6681,\n",
       "  'RON': 4.8493,\n",
       "  'SEK': 10.487,\n",
       "  'IDR': 16269.7,\n",
       "  'INR': 84.1025,\n",
       "  'BRL': 5.9654,\n",
       "  'RUB': 78.4416,\n",
       "  'HRK': 7.587,\n",
       "  'JPY': 119.29,\n",
       "  'THB': 35.424,\n",
       "  'CHF': 1.072,\n",
       "  'SGD': 1.5712,\n",
       "  'PLN': 4.4495,\n",
       "  'BGN': 1.9558,\n",
       "  'TRY': 7.6101,\n",
       "  'CNY': 7.9456,\n",
       "  'NOK': 10.788,\n",
       "  'NZD': 1.7863,\n",
       "  'ZAR': 19.4239,\n",
       "  'USD': 1.1136,\n",
       "  'MXN': 24.57,\n",
       "  'ILS': 3.9065,\n",
       "  'GBP': 0.90088,\n",
       "  'KRW': 1376.21,\n",
       "  'MYR': 4.8414},\n",
       " 'base': 'EUR',\n",
       " 'date': '2020-05-29'}"
      ]
     },
     "execution_count": 8,
     "metadata": {},
     "output_type": "execute_result"
    }
   ],
   "source": [
    "response.json()"
   ]
  },
  {
   "cell_type": "code",
   "execution_count": 9,
   "metadata": {},
   "outputs": [
    {
     "data": {
      "text/plain": [
       "dict_keys(['rates', 'base', 'date'])"
      ]
     },
     "execution_count": 9,
     "metadata": {},
     "output_type": "execute_result"
    }
   ],
   "source": [
    "response.json().keys()"
   ]
  },
  {
   "cell_type": "code",
   "execution_count": 10,
   "metadata": {},
   "outputs": [
    {
     "name": "stdout",
     "output_type": "stream",
     "text": [
      "{\n",
      "    \"rates\": {\n",
      "        \"CAD\": 1.528,\n",
      "        \"HKD\": 8.6347,\n",
      "        \"ISK\": 150.8,\n",
      "        \"PHP\": 56.231,\n",
      "        \"DKK\": 7.4542,\n",
      "        \"HUF\": 348.73,\n",
      "        \"CZK\": 26.921,\n",
      "        \"AUD\": 1.6681,\n",
      "        \"RON\": 4.8493,\n",
      "        \"SEK\": 10.487,\n",
      "        \"IDR\": 16269.7,\n",
      "        \"INR\": 84.1025,\n",
      "        \"BRL\": 5.9654,\n",
      "        \"RUB\": 78.4416,\n",
      "        \"HRK\": 7.587,\n",
      "        \"JPY\": 119.29,\n",
      "        \"THB\": 35.424,\n",
      "        \"CHF\": 1.072,\n",
      "        \"SGD\": 1.5712,\n",
      "        \"PLN\": 4.4495,\n",
      "        \"BGN\": 1.9558,\n",
      "        \"TRY\": 7.6101,\n",
      "        \"CNY\": 7.9456,\n",
      "        \"NOK\": 10.788,\n",
      "        \"NZD\": 1.7863,\n",
      "        \"ZAR\": 19.4239,\n",
      "        \"USD\": 1.1136,\n",
      "        \"MXN\": 24.57,\n",
      "        \"ILS\": 3.9065,\n",
      "        \"GBP\": 0.90088,\n",
      "        \"KRW\": 1376.21,\n",
      "        \"MYR\": 4.8414\n",
      "    },\n",
      "    \"base\": \"EUR\",\n",
      "    \"date\": \"2020-05-29\"\n",
      "}\n"
     ]
    }
   ],
   "source": [
    "import json\n",
    "print(json.dumps(response.json(),indent=4))"
   ]
  },
  {
   "cell_type": "code",
   "execution_count": 19,
   "metadata": {},
   "outputs": [
    {
     "data": {
      "text/plain": [
       "'https://api.exchangeratesapi.io/latest?symbols=USD,GBP'"
      ]
     },
     "execution_count": 19,
     "metadata": {},
     "output_type": "execute_result"
    }
   ],
   "source": [
    "param_url = base_url + \"?symbols=USD,GBP\"\n",
    "param_url"
   ]
  },
  {
   "cell_type": "code",
   "execution_count": 20,
   "metadata": {},
   "outputs": [],
   "source": [
    "response1 = requests.get(param_url)"
   ]
  },
  {
   "cell_type": "code",
   "execution_count": 21,
   "metadata": {},
   "outputs": [
    {
     "data": {
      "text/plain": [
       "{'rates': {'USD': 1.1136, 'GBP': 0.90088}, 'base': 'EUR', 'date': '2020-05-29'}"
      ]
     },
     "execution_count": 21,
     "metadata": {},
     "output_type": "execute_result"
    }
   ],
   "source": [
    "data = response1.json()\n",
    "data"
   ]
  },
  {
   "cell_type": "code",
   "execution_count": 22,
   "metadata": {},
   "outputs": [],
   "source": [
    "# acc to the documentation we can also change its base\n",
    "param_url = base_url + \"?symbols=GBP&base=USD\""
   ]
  },
  {
   "cell_type": "code",
   "execution_count": 24,
   "metadata": {},
   "outputs": [],
   "source": [
    "response2 = requests.get(param_url)\n",
    "data = response2.json()"
   ]
  },
  {
   "cell_type": "code",
   "execution_count": 25,
   "metadata": {},
   "outputs": [
    {
     "data": {
      "text/plain": [
       "{'rates': {'GBP': 0.8089798851}, 'base': 'USD', 'date': '2020-05-29'}"
      ]
     },
     "execution_count": 25,
     "metadata": {},
     "output_type": "execute_result"
    }
   ],
   "source": [
    "data"
   ]
  },
  {
   "cell_type": "markdown",
   "metadata": {},
   "source": [
    "## Obtaining historical exchange rates"
   ]
  },
  {
   "cell_type": "code",
   "execution_count": 27,
   "metadata": {},
   "outputs": [],
   "source": [
    "base_url = \"https://api.exchangeratesapi.io\""
   ]
  },
  {
   "cell_type": "code",
   "execution_count": 28,
   "metadata": {},
   "outputs": [],
   "source": [
    "historical_url = base_url + '/1999-04-29'"
   ]
  },
  {
   "cell_type": "code",
   "execution_count": 29,
   "metadata": {},
   "outputs": [
    {
     "data": {
      "text/plain": [
       "200"
      ]
     },
     "execution_count": 29,
     "metadata": {},
     "output_type": "execute_result"
    }
   ],
   "source": [
    "response = requests.get(historical_url)\n",
    "response.status_code"
   ]
  },
  {
   "cell_type": "code",
   "execution_count": 30,
   "metadata": {},
   "outputs": [
    {
     "name": "stdout",
     "output_type": "stream",
     "text": [
      "{\n",
      "    \"rates\": {\n",
      "        \"CAD\": 1.5607,\n",
      "        \"HKD\": 8.2183,\n",
      "        \"LVL\": 0.6267,\n",
      "        \"DKK\": 7.433,\n",
      "        \"HUF\": 250.58,\n",
      "        \"CZK\": 37.692,\n",
      "        \"AUD\": 1.6123,\n",
      "        \"SEK\": 8.911,\n",
      "        \"USD\": 1.0604,\n",
      "        \"LTL\": 4.2425,\n",
      "        \"TRL\": 413086.0,\n",
      "        \"JPY\": 126.16,\n",
      "        \"SKK\": 44.964,\n",
      "        \"CYP\": 0.5787,\n",
      "        \"CHF\": 1.6072,\n",
      "        \"SGD\": 1.7997,\n",
      "        \"ROL\": 15893.0,\n",
      "        \"SIT\": 193.1168,\n",
      "        \"MTL\": 0.4255,\n",
      "        \"NOK\": 8.2695,\n",
      "        \"NZD\": 1.9063,\n",
      "        \"ZAR\": 6.4287,\n",
      "        \"ISK\": 77.89,\n",
      "        \"EEK\": 15.6466,\n",
      "        \"GBP\": 0.6584,\n",
      "        \"KRW\": 1246.97,\n",
      "        \"PLN\": 4.2247\n",
      "    },\n",
      "    \"base\": \"EUR\",\n",
      "    \"date\": \"1999-04-29\"\n",
      "}\n"
     ]
    }
   ],
   "source": [
    "data = response.json()\n",
    "print(json.dumps(data,indent=4))"
   ]
  },
  {
   "cell_type": "markdown",
   "metadata": {},
   "source": [
    "# Creating a simple currency convertor"
   ]
  },
  {
   "cell_type": "code",
   "execution_count": 31,
   "metadata": {},
   "outputs": [
    {
     "name": "stdout",
     "output_type": "stream",
     "text": [
      "Please enter the date (in the format 'yyyy-mm-dd' or 'latest'): latest\n",
      "Convert from (currency): USD\n",
      "Convert to (currency): INR\n",
      "How much USD do you want to convert: 400\n",
      "\n",
      "400.0 USD is equal to 30209.23132184 INR, based upon exchange rates on 2020-05-29\n"
     ]
    }
   ],
   "source": [
    "# Gathering input parameters from the user\n",
    "date = input(\"Please enter the date (in the format 'yyyy-mm-dd' or 'latest'): \")\n",
    "base = input(\"Convert from (currency): \")\n",
    "curr = input(\"Convert to (currency): \")\n",
    "quan = float(input(\"How much {} do you want to convert: \".format(base)))\n",
    "\n",
    "# Constructing the URL based on the user parameters and sending a request to the server\n",
    "url = base_url + \"/\" + date + \"?base=\" + base + \"&symbols=\" + curr\n",
    "response = requests.get(url)\n",
    "\n",
    "# Displaying the error message if response is not OK\n",
    "if(response.ok is False):\n",
    "    print(\"\\nError {}:\".format(response.status_code))\n",
    "    print(response.json()['error'])\n",
    "\n",
    "else:\n",
    "    data = response.json()\n",
    "    rate = data['rates'][curr]\n",
    "    \n",
    "    result = quan*rate\n",
    "    \n",
    "    print(\"\\n{0} {1} is equal to {2} {3}, based upon exchange rates on {4}\".format(quan,base,result,curr,data['date']))\n"
   ]
  },
  {
   "cell_type": "code",
   "execution_count": null,
   "metadata": {},
   "outputs": [],
   "source": []
  }
 ],
 "metadata": {
  "kernelspec": {
   "display_name": "Python 3",
   "language": "python",
   "name": "python3"
  },
  "language_info": {
   "codemirror_mode": {
    "name": "ipython",
    "version": 3
   },
   "file_extension": ".py",
   "mimetype": "text/x-python",
   "name": "python",
   "nbconvert_exporter": "python",
   "pygments_lexer": "ipython3",
   "version": "3.7.4"
  }
 },
 "nbformat": 4,
 "nbformat_minor": 2
}
